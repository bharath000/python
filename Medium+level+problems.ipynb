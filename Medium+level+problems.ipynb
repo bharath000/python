{
 "cells": [
  {
   "cell_type": "code",
   "execution_count": null,
   "metadata": {
    "collapsed": true
   },
   "outputs": [],
   "source": [
    "\"\"\"\n",
    "Find Angle MBC\n",
    "\"\"\"\n",
    "import math\n",
    "#a = input()\n",
    "#a = (math.sqrt((BC**2+AC**2)))/2\n",
    "#b = BC\n",
    "#math.degrees(math.atan(a/b))\n",
    "x = []\n",
    "a= int(input())\n",
    "b = int(input())\n",
    "\n",
    "#h = (math.sqrt((a**2+b**2)))/2\n",
    "#a1 = str(math.degrees(math.atan(h/x[1])))\n",
    "#y = h/b\n",
    "print(str(round((math.degrees(math.atan2(a, b)))))+'°')\n"
   ]
  },
  {
   "cell_type": "code",
   "execution_count": null,
   "metadata": {
    "collapsed": true
   },
   "outputs": [],
   "source": [
    "\"\"\"\n",
    "Words Score\n",
    "\"\"\"\n",
    "def score_words(words):\n",
    "    \n",
    "    score = 0 \n",
    "    a = words\n",
    "    for i in range(0,len(a)):\n",
    "        s = 0\n",
    "        x = a[i]\n",
    "        for j in x:\n",
    "            if j in 'aeiouy':\n",
    "                s = s+1\n",
    "            \n",
    "\n",
    "\n",
    "        if s%2 == 0:\n",
    "             score = score+2\n",
    "        elif s%2 == 1:\n",
    "             score = score+1\n",
    "        #print(score)\n",
    "    return score\n",
    "\n"
   ]
  },
  {
   "cell_type": "code",
   "execution_count": null,
   "metadata": {
    "collapsed": true
   },
   "outputs": [],
   "source": [
    "\"\"\"\n",
    "Default Arguments\n",
    "\n",
    "\"\"\"\n",
    "class EvenStream(object):\n",
    "    def __init__(self):\n",
    "        self.current = 0\n",
    "\n",
    "    def get_next(self):\n",
    "        to_return = self.current\n",
    "        self.current += 2\n",
    "        return to_return\n",
    "\n",
    "class OddStream(object):\n",
    "    def __init__(self):\n",
    "        self.current = 1\n",
    "\n",
    "    def get_next(self):\n",
    "        to_return = self.current\n",
    "        self.current += 2\n",
    "        return to_return\n",
    "\n",
    "def print_from_stream(n, stream=EvenStream()):\n",
    "    stream.__init__()\n",
    "    for _ in range(n):\n",
    "        print(stream.get_next())"
   ]
  },
  {
   "cell_type": "code",
   "execution_count": null,
   "metadata": {
    "collapsed": true
   },
   "outputs": [],
   "source": [
    "\"\"\"\n",
    "Validating Credit Card Numbers\n",
    "\"\"\"\n",
    "import re\n",
    "from itertools import groupby\n",
    "s1 = int(input())\n",
    "for i in range(s1):\n",
    "    \n",
    "    r = 0\n",
    "    a = input()\n",
    "   \n",
    "    if len(a) <= 19:\n",
    "        b = re.match(r'[0-9]{4}-[0-9]{4}-[0-9]{4}-[0-9]{4}', a)\n",
    "    \n",
    "        if (len(a)== 16  and a[0] in '456'):\n",
    "            x = a\n",
    "            y = [list(g) for k, g in groupby(x)]\n",
    "            for j in range(len(y)):\n",
    "                if len(y[j]) >= 4:\n",
    "                    r = r+1\n",
    "            if r > 0 :\n",
    "                print('Invalid')\n",
    "            else:\n",
    "                print('Valid')\n",
    "        elif b == None :\n",
    "            print('Invalid')\n",
    "\n",
    "        if b != None:\n",
    "            if (len(b[0])== 19  and a[0] in '456'):\n",
    "                    x = b[0].replace('-',\"\")\n",
    "                    y = [list(g) for k, g in groupby(x)]\n",
    "                    for j in range(len(y)):\n",
    "                        if len(y[j]) >= 4:\n",
    "                            r = r+1\n",
    "                    if r > 0:\n",
    "                        print('Invalid')\n",
    "                    else:\n",
    "                        print('Valid')\n",
    "            else:\n",
    "                print('Invalid')\n",
    "                \n",
    "    else:\n",
    "        print(\"Invalid\")\n",
    "    \n",
    "    "
   ]
  },
  {
   "cell_type": "code",
   "execution_count": null,
   "metadata": {
    "collapsed": true
   },
   "outputs": [],
   "source": [
    "\"\"\"\n",
    "ginortS\n",
    "\n",
    "\"\"\"\n",
    "a = input()\n",
    "\n",
    "import re\n",
    "b = re.findall(r'[a-z]', a)\n",
    "b.sort()\n",
    "b1 = re.findall(r'[A-Z]', a)\n",
    "b1.sort()\n",
    "b2 = re.findall(r'[1,3,5,7,9]', a)\n",
    "b2.sort()\n",
    "b3 = re.findall(r'[0,2,4,6,8]', a)\n",
    "b3.sort()\n",
    "print(''.join(b)+''.join(b1)+''.join(b2)+''.join(b3))"
   ]
  },
  {
   "cell_type": "code",
   "execution_count": null,
   "metadata": {
    "collapsed": true
   },
   "outputs": [],
   "source": [
    "\"\"\"\n",
    "Triangle Quest\n",
    "\n",
    "\"\"\"\n",
    "for i in range(1,int(input())): #More than 2 lines will result in 0 score. Do not leave a blank line also\n",
    "       print(int((10**i-1)/9)*i)"
   ]
  },
  {
   "cell_type": "code",
   "execution_count": null,
   "metadata": {
    "collapsed": true
   },
   "outputs": [],
   "source": [
    "\"\"\"\n",
    "Triangle Quest 2\n",
    "\n",
    "\"\"\"\n",
    "for i in range(1,int(input())+1):\n",
    "    print(int((10**i-1)/9)**2)"
   ]
  },
  {
   "cell_type": "code",
   "execution_count": null,
   "metadata": {
    "collapsed": true
   },
   "outputs": [],
   "source": [
    "\"\"\"\n",
    "Compress the String!\n",
    "\n",
    "\"\"\"\n",
    "s = input()\n",
    "\n",
    "from itertools import groupby\n",
    "b = [k for k, g in groupby(s)]\n",
    "a = [list(g) for k, g in groupby(s)]\n",
    "for i in range(len(b)):\n",
    "    print((len(a[i]), int(b[i])), end = \" \")"
   ]
  },
  {
   "cell_type": "code",
   "execution_count": null,
   "metadata": {
    "collapsed": true
   },
   "outputs": [],
   "source": [
    "\"\"\"\n",
    "reduce Function\n",
    "\"\"\"\n",
    "from fractions import Fraction\n",
    "from functools import reduce\n",
    "\n",
    "def product(fracs):\n",
    "    t = reduce(lambda x, y : x * y,fracs)\n",
    "    return t.numerator, t.denominator\n",
    "\n",
    "if __name__ == '__main__':\n",
    "    fracs = []\n",
    "    for _ in range(int(input())):\n",
    "        fracs.append(Fraction(*map(int, input().split())))\n",
    "    result = product(fracs)\n",
    "    print(*result)"
   ]
  },
  {
   "cell_type": "code",
   "execution_count": null,
   "metadata": {
    "collapsed": true
   },
   "outputs": [],
   "source": [
    "\"\"\"\n",
    "Word order\n",
    "\n",
    "\"\"\"\n",
    "a = int(input())\n",
    "b = []\n",
    "c = []\n",
    "x = 0\n",
    "if 1<=a<=10**5:\n",
    "    for i in range(a):\n",
    "        a1 = input()\n",
    "        b.append(a1)\n",
    "for i in range(len(b)):\n",
    "     #print(i)\n",
    "    if i < len(b):\n",
    "        for j in range(len(b)):\n",
    "             #print(j)\n",
    "          \n",
    "            if b[i] == b[j]:\n",
    "                x = x+1\n",
    "            if x > 1:\n",
    "                del b[j]\n",
    "                j = j-1\n",
    "              #i = i-1\n",
    "            #print(b)\n",
    "\n",
    "        c.append(str(x))\n",
    "        x = 0\n",
    "print(len(c))\n",
    "print(' '.join(c))\n",
    "        "
   ]
  },
  {
   "cell_type": "code",
   "execution_count": null,
   "metadata": {
    "collapsed": true
   },
   "outputs": [],
   "source": [
    "\"\"\"\n",
    "regex sustition\n",
    "\"\"\"\n",
    "import re\n",
    "for i in range(int(input())):\n",
    "        a = input()\n",
    "        a = re.sub(' && ', ' and ', a)\n",
    "        a = re.sub( ' \\|\\| ' , ' or ', a)\n",
    "        print(a)"
   ]
  },
  {
   "cell_type": "code",
   "execution_count": null,
   "metadata": {
    "collapsed": true
   },
   "outputs": [],
   "source": [
    "\"\"\"\n",
    "Merge tool\n",
    "\n",
    "\"\"\"\n",
    "\n",
    "\n",
    "\n",
    "#import numpy as np\n",
    "from itertools import groupby\n",
    "#a='5133-336789-123456'\n",
    "\n",
    "def merge_the_tools(string, k):\n",
    "\n",
    "    # your code goes here\n",
    "    n = len(string)\n",
    "    x = n/k\n",
    "    if n%k == 0:\n",
    "        s = string\n",
    "    \n",
    "       s1 = []\n",
    "        s2 = []\n",
    "    #print(s)\n",
    "       j = 0\n",
    "        for  i in range(int(x)):\n",
    "            s1.append(s[int(j):int(x)+j])\n",
    "            j = j+int(x)\n",
    "         #v = [k1 for k1, g in groupby(s1[i])]\n",
    "         \n",
    "    #y = set(s1[0])\n",
    "       for i in range(len(s1)):\n",
    "            a1 = s1[i]\n",
    "            s2.append(a1[0])\n",
    "            for j in range(1,len(a1)):\n",
    "                if a1[j] not in s2:\n",
    "                    s2.append(a1[j])\n",
    "            print(''.join(s2))\n",
    "            s2 = []\n",
    "        \n",
    "    #print(y)\n",
    "    #print(v)\n",
    "\n",
    "         \n",
    "\n",
    "\n"
   ]
  }
 ],
 "metadata": {
  "kernelspec": {
   "display_name": "Python 3",
   "language": "python",
   "name": "python3"
  },
  "language_info": {
   "codemirror_mode": {
    "name": "ipython",
    "version": 3
   },
   "file_extension": ".py",
   "mimetype": "text/x-python",
   "name": "python",
   "nbconvert_exporter": "python",
   "pygments_lexer": "ipython3",
   "version": "3.6.1"
  }
 },
 "nbformat": 4,
 "nbformat_minor": 2
}
