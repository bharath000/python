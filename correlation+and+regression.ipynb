{
 "cells": [
  {
   "cell_type": "code",
   "execution_count": 1,
   "metadata": {},
   "outputs": [
    {
     "name": "stdout",
     "output_type": "stream",
     "text": [
      "0.145\n"
     ]
    }
   ],
   "source": [
    "\"\"\"\n",
    "Correlation and Regression Lines - A Quick Recap #1\n",
    "\"\"\"\n",
    "x = [15,12,8,8,7,7,7,6,5,3]\n",
    "y = [10,25,17,11,13,17,20,13,9,15]\n",
    "n = len(x)\n",
    "x_mean = sum(x)/n\n",
    "y_mean = sum(y)/n\n",
    "\n",
    "X = [x[i]- x_mean for i in range(n)]\n",
    "Y = [y[i]- y_mean for i in range(n)]\n",
    "num = [(X[i]*Y[i])/n for i in range(n)]\n",
    "num1 = sum(num)\n",
    "\n",
    "std_x = [(X[i]**2)/n for i in range(n)]\n",
    "std_x1 = (sum(std_x))**0.5\n",
    "std_y = [(Y[i]**2)/n for i in range(n)]\n",
    "std_y1 = (sum(std_y))**0.5\n",
    "\n",
    "den = std_x1*std_y1\n",
    "\n",
    "r = num1/den\n",
    "\n",
    "#print(X)\n",
    "#print(Y)\n",
    "#print(num)\n",
    "#print(num1)\n",
    "print(round(r,3))"
   ]
  },
  {
   "cell_type": "code",
   "execution_count": 2,
   "metadata": {},
   "outputs": [
    {
     "name": "stdout",
     "output_type": "stream",
     "text": [
      "0.208\n"
     ]
    }
   ],
   "source": [
    "\"\"\"\n",
    "Correlation and Regression Lines - A Quick Recap #2\n",
    "slope is beta in line equation\n",
    "beta = co-variance(x,y)/var(x)\n",
    "\n",
    "\"\"\"\n",
    "x = [15,12,8,8,7,7,7,6,5,3]\n",
    "y = [10,25,17,11,13,17,20,13,9,15]\n",
    "n = len(x)\n",
    "x = [15,12,8,8,7,7,7,6,5,3]\n",
    "y = [10,25,17,11,13,17,20,13,9,15]\n",
    "n = len(x)\n",
    "x_mean = sum(x)/n\n",
    "y_mean = sum(y)/n\n",
    "\n",
    "X = [x[i]- x_mean for i in range(n)]\n",
    "Y = [y[i]- y_mean for i in range(n)]\n",
    "num = [(X[i]*Y[i]) for i in range(n)]\n",
    "num1 = sum(num)\n",
    "\n",
    "std_x = [(X[i]**2) for i in range(n)]\n",
    "std_x1 = sum(std_x)\n",
    "std_y = [(Y[i]**2)/n for i in range(n)]\n",
    "std_y1 = (sum(std_y))**0.5\n",
    "\n",
    "den = std_x1\n",
    "\n",
    "r = num1/den\n",
    "print(round(r,3))"
   ]
  },
  {
   "cell_type": "code",
   "execution_count": 3,
   "metadata": {},
   "outputs": [
    {
     "name": "stdout",
     "output_type": "stream",
     "text": [
      "15.458333333333332\n"
     ]
    }
   ],
   "source": [
    "\"\"\"\n",
    "Correlation and Regression Lines - A Quick Recap #\n",
    "y = beta*x+c\n",
    "c = y_mean - beta*x_mean\n",
    "\n",
    "\"\"\"\n",
    "x = [15,12,8,8,7,7,7,6,5,3]\n",
    "y = [10,25,17,11,13,17,20,13,9,15]\n",
    "n = len(x)\n",
    "x_mean = sum(x)/n\n",
    "y_mean = sum(y)/n\n",
    "X = [x[i]- x_mean for i in range(n)]\n",
    "Y = [y[i]- y_mean for i in range(n)]\n",
    "num = [(X[i]*Y[i]) for i in range(n)]\n",
    "num1 = sum(num)\n",
    "\n",
    "std_x = [(X[i]**2) for i in range(n)]\n",
    "std_x1 = sum(std_x)\n",
    "std_y = [(Y[i]**2)/n for i in range(n)]\n",
    "std_y1 = (sum(std_y))**0.5\n",
    "\n",
    "den = std_x1\n",
    "x1 = 10\n",
    "beta = num1/den\n",
    "c = y_mean - (beta*x_mean)\n",
    "y_out = (beta*x1)+c\n",
    "print(y_out)"
   ]
  },
  {
   "cell_type": "code",
   "execution_count": 4,
   "metadata": {},
   "outputs": [
    {
     "name": "stdout",
     "output_type": "stream",
     "text": [
      "8.5\n"
     ]
    }
   ],
   "source": [
    "\"\"\"\n",
    "correlation and regression 4\n",
    "y = beta*x+c\n",
    "c = y_mean - beta*x_mean\n",
    "\"\"\"\n",
    "y = 7\n",
    "print(round((9*y+107)/20,3))"
   ]
  },
  {
   "cell_type": "code",
   "execution_count": 5,
   "metadata": {},
   "outputs": [
    {
     "data": {
      "text/plain": [
       "16.0"
      ]
     },
     "execution_count": 5,
     "metadata": {},
     "output_type": "execute_result"
    }
   ],
   "source": [
    "\"\"\"\n",
    "correlation and regression 5\n",
    "here case of y on x and x on y where both of these regression fits have same covariance then with relation shown\n",
    "below we can find the variance of y\n",
    "\n",
    "y on x case\n",
    "beta = cov(x,y)/var(x)\n",
    "x on y case\n",
    "beta = cov(y,x)/var(y)\n",
    "where as given var(x) = 3X3=9\n",
    "from above relation using the normal caluculation we get solution as \"16\"\n",
    "\"\"\"\n",
    "beta1 = 9/20\n",
    "beta2 = 4/5\n",
    "cov = beta2*9\n",
    "vary = cov/beta1\n",
    "vary"
   ]
  },
  {
   "cell_type": "code",
   "execution_count": null,
   "metadata": {
    "collapsed": true
   },
   "outputs": [],
   "source": []
  }
 ],
 "metadata": {
  "kernelspec": {
   "display_name": "Python 3",
   "language": "python",
   "name": "python3"
  },
  "language_info": {
   "codemirror_mode": {
    "name": "ipython",
    "version": 3
   },
   "file_extension": ".py",
   "mimetype": "text/x-python",
   "name": "python",
   "nbconvert_exporter": "python",
   "pygments_lexer": "ipython3",
   "version": "3.6.1"
  }
 },
 "nbformat": 4,
 "nbformat_minor": 2
}
